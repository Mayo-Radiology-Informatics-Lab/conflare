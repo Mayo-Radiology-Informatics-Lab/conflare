{
 "cells": [
  {
   "cell_type": "code",
   "execution_count": 1,
   "metadata": {},
   "outputs": [],
   "source": [
    "%load_ext autoreload\n",
    "%autoreload 2\n",
    "import sys\n",
    "\n",
    "sys.path.append(\"..\")"
   ]
  },
  {
   "cell_type": "code",
   "execution_count": 2,
   "metadata": {},
   "outputs": [],
   "source": [
    "from conformal.calibration import QuestionGeneration, QuestionEvaluation"
   ]
  },
  {
   "cell_type": "code",
   "execution_count": 4,
   "metadata": {},
   "outputs": [],
   "source": [
    "question_gen = QuestionGeneration().from_pickle(\"../data/calibration_set/Generated_Questions.pkl\")\n",
    "question_eval = QuestionEvaluation().from_pickle(\"../data/calibration_set/Calibration_Records.pkl\")\n",
    "# question_gen.load(\"data/calibration_set/Generated_Questions.pkl\")"
   ]
  },
  {
   "cell_type": "code",
   "execution_count": 5,
   "metadata": {},
   "outputs": [
    {
     "data": {
      "text/plain": [
       "'How did the performance of smaller networks like ResNet18 compare to deeper models in the context of the study?'"
      ]
     },
     "execution_count": 5,
     "metadata": {},
     "output_type": "execute_result"
    }
   ],
   "source": [
    "question_gen[5]"
   ]
  },
  {
   "cell_type": "code",
   "execution_count": 6,
   "metadata": {},
   "outputs": [
    {
     "data": {
      "text/plain": [
       "[4,\n",
       " {'source': '/content/drive/MyDrive/RILProjects/GTC2024 - RAG/Articles/Fang et al. 2021 - Deep learning for predicting COVID-19 malignant progression.pdf',\n",
       "  'page': 11,\n",
       "  'chunk': '...bution  similarity  for supervised  segmentation  across \\nscanners.  Med. Image Anal. 24 1, 245–254  . \\nOreshkin,  B.N. , López, P.R. , Lacoste, A. , 2018. TADAM: task dependent  adaptive met- \\nric for improved  few-shot  learning.  NeurIPS . \\nOrganization,  W.H. , et al. , 2020. Coronavirus  disease 2019 (COVID-19).  situation  re- \\nport 205 . \\nQi, H. , Brown, M. , Lowe, D. , 2018. Low-shot  learning with imprinted  weights. \\nIn: 2018 IEEE/CVF  Conference  on Computer  Vision and Pattern Recognition,  \\npp. 5822–5830  . \\nSama, I.E. , Ravera, A. , Santema,  B.T. , van Goor, H. , Ter Maaten, J.M. , Cleland, J.G. , \\nRienstra,  M. , Friedrich,  A.W. , Samani, N.J. , Ng, L.L. , et al. , 2020. Circulating  \\nplasma concentrations  of angiotensin-converting  enzyme 2 in men and women \\nwith heart failure and effects of renin–angiotensin–aldosterone  inhibitors.  Eur. \\nHeart J. 41 (19), 1810–1817  . \\nSelvaraju,  R.R. , Cogswell,  M. , Das, A. , Vedantam,  R. , Parikh, D. , Batra, D. , 2017. \\nGrad-CAM:  visual explanations  from deep networks  via gradient-based  localiza- \\ntion. In: Proceedings  of the IEEE International  Conference  on Computer  Vision, \\npp. 618–626 . \\nShi, B. , Bai, X. , Yao, C. , 2017. An end-to-end  trainable  neural network for im- \\nage-based  sequence  recognition  and its application  to scene text recognition.  \\nIEEE Trans. Pattern Anal. Mach. Intell. 39, 2298–2304  . \\nSitaula, C. , Hossain, M.B. , 2020. Attention-based  VGG-16 model for COVID-19  chest \\nx-ray ...',\n",
       "  'chunk_index': 6},\n",
       " 'What is the role of Grad-CAM in deep learning networks?']"
      ]
     },
     "execution_count": 6,
     "metadata": {},
     "output_type": "execute_result"
    }
   ],
   "source": [
    "question_eval[4]['generated_q']"
   ]
  },
  {
   "cell_type": "code",
   "execution_count": 7,
   "metadata": {},
   "outputs": [
    {
     "data": {
      "text/plain": [
       "100"
      ]
     },
     "execution_count": 7,
     "metadata": {},
     "output_type": "execute_result"
    }
   ],
   "source": [
    "len(question_eval.questions)"
   ]
  },
  {
   "cell_type": "code",
   "execution_count": null,
   "metadata": {},
   "outputs": [],
   "source": []
  }
 ],
 "metadata": {
  "kernelspec": {
   "display_name": "conflare",
   "language": "python",
   "name": "python3"
  },
  "language_info": {
   "codemirror_mode": {
    "name": "ipython",
    "version": 3
   },
   "file_extension": ".py",
   "mimetype": "text/x-python",
   "name": "python",
   "nbconvert_exporter": "python",
   "pygments_lexer": "ipython3",
   "version": "3.10.14"
  }
 },
 "nbformat": 4,
 "nbformat_minor": 2
}
